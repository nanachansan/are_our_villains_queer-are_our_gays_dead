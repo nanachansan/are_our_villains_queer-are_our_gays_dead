{
  "nbformat": 4,
  "nbformat_minor": 0,
  "metadata": {
    "kernelspec": {
      "display_name": "Python 3",
      "language": "python",
      "name": "python3"
    },
    "language_info": {
      "codemirror_mode": {
        "name": "ipython",
        "version": 3
      },
      "file_extension": ".py",
      "mimetype": "text/x-python",
      "name": "python",
      "nbconvert_exporter": "python",
      "pygments_lexer": "ipython3",
      "version": "3.7.7"
    },
    "colab": {
      "name": "are villains queer coded are all our gays dead.ipynb",
      "provenance": [],
      "include_colab_link": true
    }
  },
  "cells": [
    {
      "cell_type": "markdown",
      "metadata": {
        "id": "view-in-github",
        "colab_type": "text"
      },
      "source": [
        "<a href=\"https://colab.research.google.com/github/nanachansan/are_our_villains_queer-are_our_gays_dead/blob/master/are_villains_queer_coded_are_all_our_gays_dead.ipynb\" target=\"_parent\"><img src=\"https://colab.research.google.com/assets/colab-badge.svg\" alt=\"Open In Colab\"/></a>"
      ]
    },
    {
      "cell_type": "code",
      "metadata": {
        "id": "AgQ9220t77xU",
        "colab_type": "code",
        "colab": {}
      },
      "source": [
        "import pandas as pd\n",
        "import numpy as np\n"
      ],
      "execution_count": null,
      "outputs": []
    },
    {
      "cell_type": "code",
      "metadata": {
        "id": "K2Ubs8W177xf",
        "colab_type": "code",
        "colab": {},
        "outputId": "7ac8fe0a-c054-4763-fb03-51b8fa543a03"
      },
      "source": [
        "# salvar os paths em variavéis para código mais limpo\n",
        "dc = \"C:/Users/IP/Documents/PROGRAMAÇÃO PYTHON/DATA PROJECTS/dc-wikia-data.csv\"\n",
        "\n",
        "marvel = \"C:/Users/IP/Documents/PROGRAMAÇÃO PYTHON/DATA PROJECTS/marvel-wikia-data.csv\"\n",
        "\n",
        "#ler os cvs dentro das variáveis corretas\n",
        "dc_data = pd.read_csv(dc)\n",
        "marvel_data = pd.read_csv(marvel)\n",
        "\n",
        "#marvel_data.shape #13 colunas, 16376 linhas\n",
        "#dc_data.shape #13 colunas, 6896\n",
        "\n",
        "marvel_data.tail()"
      ],
      "execution_count": null,
      "outputs": [
        {
          "output_type": "execute_result",
          "data": {
            "text/html": [
              "<div>\n",
              "<style scoped>\n",
              "    .dataframe tbody tr th:only-of-type {\n",
              "        vertical-align: middle;\n",
              "    }\n",
              "\n",
              "    .dataframe tbody tr th {\n",
              "        vertical-align: top;\n",
              "    }\n",
              "\n",
              "    .dataframe thead th {\n",
              "        text-align: right;\n",
              "    }\n",
              "</style>\n",
              "<table border=\"1\" class=\"dataframe\">\n",
              "  <thead>\n",
              "    <tr style=\"text-align: right;\">\n",
              "      <th></th>\n",
              "      <th>page_id</th>\n",
              "      <th>name</th>\n",
              "      <th>urlslug</th>\n",
              "      <th>ID</th>\n",
              "      <th>ALIGN</th>\n",
              "      <th>EYE</th>\n",
              "      <th>HAIR</th>\n",
              "      <th>SEX</th>\n",
              "      <th>GSM</th>\n",
              "      <th>ALIVE</th>\n",
              "      <th>APPEARANCES</th>\n",
              "      <th>FIRST APPEARANCE</th>\n",
              "      <th>Year</th>\n",
              "    </tr>\n",
              "  </thead>\n",
              "  <tbody>\n",
              "    <tr>\n",
              "      <th>16371</th>\n",
              "      <td>657508</td>\n",
              "      <td>Ru'ach (Earth-616)</td>\n",
              "      <td>\\/Ru%27ach_(Earth-616)</td>\n",
              "      <td>No Dual Identity</td>\n",
              "      <td>Bad Characters</td>\n",
              "      <td>Green Eyes</td>\n",
              "      <td>No Hair</td>\n",
              "      <td>Male Characters</td>\n",
              "      <td>NaN</td>\n",
              "      <td>Living Characters</td>\n",
              "      <td>NaN</td>\n",
              "      <td>NaN</td>\n",
              "      <td>NaN</td>\n",
              "    </tr>\n",
              "    <tr>\n",
              "      <th>16372</th>\n",
              "      <td>665474</td>\n",
              "      <td>Thane (Thanos' son) (Earth-616)</td>\n",
              "      <td>\\/Thane_(Thanos%27_son)_(Earth-616)</td>\n",
              "      <td>No Dual Identity</td>\n",
              "      <td>Good Characters</td>\n",
              "      <td>Blue Eyes</td>\n",
              "      <td>Bald</td>\n",
              "      <td>Male Characters</td>\n",
              "      <td>NaN</td>\n",
              "      <td>Living Characters</td>\n",
              "      <td>NaN</td>\n",
              "      <td>NaN</td>\n",
              "      <td>NaN</td>\n",
              "    </tr>\n",
              "    <tr>\n",
              "      <th>16373</th>\n",
              "      <td>695217</td>\n",
              "      <td>Tinkerer (Skrull) (Earth-616)</td>\n",
              "      <td>\\/Tinkerer_(Skrull)_(Earth-616)</td>\n",
              "      <td>Secret Identity</td>\n",
              "      <td>Bad Characters</td>\n",
              "      <td>Black Eyes</td>\n",
              "      <td>Bald</td>\n",
              "      <td>Male Characters</td>\n",
              "      <td>NaN</td>\n",
              "      <td>Living Characters</td>\n",
              "      <td>NaN</td>\n",
              "      <td>NaN</td>\n",
              "      <td>NaN</td>\n",
              "    </tr>\n",
              "    <tr>\n",
              "      <th>16374</th>\n",
              "      <td>708811</td>\n",
              "      <td>TK421 (Spiderling) (Earth-616)</td>\n",
              "      <td>\\/TK421_(Spiderling)_(Earth-616)</td>\n",
              "      <td>Secret Identity</td>\n",
              "      <td>Neutral Characters</td>\n",
              "      <td>NaN</td>\n",
              "      <td>NaN</td>\n",
              "      <td>Male Characters</td>\n",
              "      <td>NaN</td>\n",
              "      <td>Living Characters</td>\n",
              "      <td>NaN</td>\n",
              "      <td>NaN</td>\n",
              "      <td>NaN</td>\n",
              "    </tr>\n",
              "    <tr>\n",
              "      <th>16375</th>\n",
              "      <td>673702</td>\n",
              "      <td>Yologarch (Earth-616)</td>\n",
              "      <td>\\/Yologarch_(Earth-616)</td>\n",
              "      <td>NaN</td>\n",
              "      <td>Bad Characters</td>\n",
              "      <td>NaN</td>\n",
              "      <td>NaN</td>\n",
              "      <td>NaN</td>\n",
              "      <td>NaN</td>\n",
              "      <td>Living Characters</td>\n",
              "      <td>NaN</td>\n",
              "      <td>NaN</td>\n",
              "      <td>NaN</td>\n",
              "    </tr>\n",
              "  </tbody>\n",
              "</table>\n",
              "</div>"
            ],
            "text/plain": [
              "       page_id                             name  \\\n",
              "16371   657508               Ru'ach (Earth-616)   \n",
              "16372   665474  Thane (Thanos' son) (Earth-616)   \n",
              "16373   695217    Tinkerer (Skrull) (Earth-616)   \n",
              "16374   708811   TK421 (Spiderling) (Earth-616)   \n",
              "16375   673702            Yologarch (Earth-616)   \n",
              "\n",
              "                                   urlslug                ID  \\\n",
              "16371               \\/Ru%27ach_(Earth-616)  No Dual Identity   \n",
              "16372  \\/Thane_(Thanos%27_son)_(Earth-616)  No Dual Identity   \n",
              "16373      \\/Tinkerer_(Skrull)_(Earth-616)   Secret Identity   \n",
              "16374     \\/TK421_(Spiderling)_(Earth-616)   Secret Identity   \n",
              "16375              \\/Yologarch_(Earth-616)               NaN   \n",
              "\n",
              "                    ALIGN         EYE     HAIR              SEX  GSM  \\\n",
              "16371      Bad Characters  Green Eyes  No Hair  Male Characters  NaN   \n",
              "16372     Good Characters   Blue Eyes     Bald  Male Characters  NaN   \n",
              "16373      Bad Characters  Black Eyes     Bald  Male Characters  NaN   \n",
              "16374  Neutral Characters         NaN      NaN  Male Characters  NaN   \n",
              "16375      Bad Characters         NaN      NaN              NaN  NaN   \n",
              "\n",
              "                   ALIVE  APPEARANCES FIRST APPEARANCE  Year  \n",
              "16371  Living Characters          NaN              NaN   NaN  \n",
              "16372  Living Characters          NaN              NaN   NaN  \n",
              "16373  Living Characters          NaN              NaN   NaN  \n",
              "16374  Living Characters          NaN              NaN   NaN  \n",
              "16375  Living Characters          NaN              NaN   NaN  "
            ]
          },
          "metadata": {
            "tags": []
          },
          "execution_count": 20
        }
      ]
    },
    {
      "cell_type": "code",
      "metadata": {
        "id": "3LnpO8g877xo",
        "colab_type": "code",
        "colab": {},
        "outputId": "2a3bdb9b-5a10-48e2-9de4-6046f443df72"
      },
      "source": [
        "#chegar se os dataframes tem a mesma quantidade/nome de coluna\n",
        "\n",
        "#dc_data.columns\n",
        "marvel_data.columns\n",
        "\n",
        "#como são iguais, podem ser merged com base nas colunas posteriormente\n"
      ],
      "execution_count": null,
      "outputs": [
        {
          "output_type": "execute_result",
          "data": {
            "text/plain": [
              "Index(['page_id', 'name', 'urlslug', 'ID', 'ALIGN', 'EYE', 'HAIR', 'SEX',\n",
              "       'GSM', 'ALIVE', 'APPEARANCES', 'FIRST APPEARANCE', 'Year'],\n",
              "      dtype='object')"
            ]
          },
          "metadata": {
            "tags": []
          },
          "execution_count": 7
        }
      ]
    },
    {
      "cell_type": "code",
      "metadata": {
        "id": "X39Gf7fY77xu",
        "colab_type": "code",
        "colab": {},
        "outputId": "cf858335-ebb1-4924-b336-a7d40697e7fe"
      },
      "source": [
        "#como a variavel GSM é a variável que determina se o personagem é de alguma minoria de genero ou\n",
        "#de orientação sexual, vamos chegar os valores únicos dentro\n",
        "\n",
        "marvel_data['GSM'].unique() #enquanto na marvel vemos mais diversidade de gênero (além dos nan) \n",
        "#dc_data['GSM'].unique() #a DC é composta de missing values e personagens bi/homo\n"
      ],
      "execution_count": null,
      "outputs": [
        {
          "output_type": "execute_result",
          "data": {
            "text/plain": [
              "array([nan, 'Bisexual Characters', 'Transvestites',\n",
              "       'Homosexual Characters', 'Pansexual Characters',\n",
              "       'Transgender Characters', 'Genderfluid Characters'], dtype=object)"
            ]
          },
          "metadata": {
            "tags": []
          },
          "execution_count": 31
        }
      ]
    },
    {
      "cell_type": "code",
      "metadata": {
        "id": "wybs-K1z77x0",
        "colab_type": "code",
        "colab": {},
        "outputId": "eecf376a-e03c-491d-cb95-79a4022a1c71"
      },
      "source": [
        "#para uma análise mais interessante, vamos chegar os missing values de todas as colunas\n",
        "# e usar o fillna, dependendo do caso (os que tão nan serão colocados como unknow)\n",
        "\n",
        "marvel_data.isnull().sum()"
      ],
      "execution_count": null,
      "outputs": [
        {
          "output_type": "execute_result",
          "data": {
            "text/plain": [
              "page_id                 0\n",
              "name                    0\n",
              "urlslug                 0\n",
              "ID                   3770\n",
              "ALIGN                2812\n",
              "EYE                  9767\n",
              "HAIR                 4264\n",
              "SEX                   854\n",
              "GSM                 16286\n",
              "ALIVE                   3\n",
              "APPEARANCES          1096\n",
              "FIRST APPEARANCE      815\n",
              "Year                  815\n",
              "dtype: int64"
            ]
          },
          "metadata": {
            "tags": []
          },
          "execution_count": 21
        }
      ]
    },
    {
      "cell_type": "code",
      "metadata": {
        "id": "889qui4977x6",
        "colab_type": "code",
        "colab": {},
        "outputId": "8ef3e212-37bd-4177-b823-c329f31ca346"
      },
      "source": [
        "#marvel_data['GSM'].value_counts() #a partir disso, verificamos que existem poucas minorias\n",
        "\n",
        "sex_gender_min = ['Bisexual Characters', 'Transvestites',\n",
        "       'Homosexual Characters', 'Pansexual Characters',\n",
        "       'Transgender Characters', 'Genderfluid Characters'] #criei uma lista para iterar mais fácil e achar os alimentos\n",
        "\n",
        "#criada uma função para descobrir os alinhamentos dos personagens\n",
        "def find_queers_alignment(x, dataset):\n",
        "    align_finder = dataset[dataset['GSM']== x]['ALIGN'].value_counts()\n",
        "    return align_finder\n",
        "\n",
        "#fiz uma compreensão de lista para aplicar a função em cada um dos valores\n",
        "[find_queers_alignment(x, marvel_data) for x in sex_gender_min]\n",
        "\n",
        "#com o resultado, apenas 9 (4 bis e 5 homos foram considerados vilões, 14.28% dos bis e 8.92% dos gays)"
      ],
      "execution_count": null,
      "outputs": [
        {
          "output_type": "execute_result",
          "data": {
            "text/plain": [
              "[Good Characters       9\n",
              " Neutral Characters    6\n",
              " Bad Characters        4\n",
              " Name: ALIGN, dtype: int64,\n",
              " Neutral Characters    1\n",
              " Name: ALIGN, dtype: int64,\n",
              " Good Characters       42\n",
              " Neutral Characters    10\n",
              " Bad Characters         5\n",
              " Name: ALIGN, dtype: int64,\n",
              " Good Characters    1\n",
              " Name: ALIGN, dtype: int64,\n",
              " Good Characters    1\n",
              " Name: ALIGN, dtype: int64,\n",
              " Good Characters    1\n",
              " Name: ALIGN, dtype: int64]"
            ]
          },
          "metadata": {
            "tags": []
          },
          "execution_count": 60
        }
      ]
    },
    {
      "cell_type": "code",
      "metadata": {
        "id": "SV96wF7J77x_",
        "colab_type": "code",
        "colab": {},
        "outputId": "47eb969e-5bd6-4f19-dcf4-48f4b3a12b71"
      },
      "source": [
        "#criei uma função para determinar quais personagens de minorias estavam vivos\n",
        "def find_queers_alive(x, dataset):\n",
        "    alive_finder = dataset[dataset['GSM']== x]['ALIVE'].value_counts()\n",
        "    return alive_finder\n",
        "\n",
        "#fiz uma compreensão de lista para aplicar a função em cada um dos valores\n",
        "[find_queers_alive(x, marvel_data) for x in sex_gender_min]\n",
        "\n",
        "#a partir desta análise, apenas 3 dos personagens bi estavam listados como mortos e 17 dos gays\n",
        "#nisto, temos uma porcentagem de 10.71% dos bis mortos e 30.35% dos gays mortos"
      ],
      "execution_count": null,
      "outputs": [
        {
          "output_type": "execute_result",
          "data": {
            "text/plain": [
              "[Living Characters      16\n",
              " Deceased Characters     3\n",
              " Name: ALIVE, dtype: int64,\n",
              " Living Characters    1\n",
              " Name: ALIVE, dtype: int64,\n",
              " Living Characters      49\n",
              " Deceased Characters    17\n",
              " Name: ALIVE, dtype: int64,\n",
              " Living Characters    1\n",
              " Name: ALIVE, dtype: int64,\n",
              " Living Characters    2\n",
              " Name: ALIVE, dtype: int64,\n",
              " Living Characters    1\n",
              " Name: ALIVE, dtype: int64]"
            ]
          },
          "metadata": {
            "tags": []
          },
          "execution_count": 62
        }
      ]
    },
    {
      "cell_type": "code",
      "metadata": {
        "id": "yjcKG0pI77yG",
        "colab_type": "code",
        "colab": {},
        "outputId": "f8fd0afc-d34f-474a-eff1-1f9a36664345"
      },
      "source": [
        "#iremos repetir a mesma análise com o dataset da dc\n",
        "\n",
        "dc_data.isnull().sum()"
      ],
      "execution_count": null,
      "outputs": [
        {
          "output_type": "execute_result",
          "data": {
            "text/plain": [
              "page_id                0\n",
              "name                   0\n",
              "urlslug                0\n",
              "ID                  2013\n",
              "ALIGN                601\n",
              "EYE                 3628\n",
              "HAIR                2274\n",
              "SEX                  125\n",
              "GSM                 6832\n",
              "ALIVE                  3\n",
              "APPEARANCES          355\n",
              "FIRST APPEARANCE      69\n",
              "YEAR                  69\n",
              "dtype: int64"
            ]
          },
          "metadata": {
            "tags": []
          },
          "execution_count": 64
        }
      ]
    },
    {
      "cell_type": "code",
      "metadata": {
        "id": "ontxv_xS77yM",
        "colab_type": "code",
        "colab": {},
        "outputId": "b2034a0a-1154-4295-e1a1-29b0ce193582"
      },
      "source": [
        "#como as funções já foram declaradas, eu apenas irei criar as compreensões de lista\n",
        "#primeiro a que tem relação de quem são os queers\n",
        "\n",
        "#criaremos uma lista com menos atributos para evitar iteração vazia\n",
        "\n",
        "sex_gender_min2 = ['Bisexual Characters', 'Homosexual Characters']\n",
        "\n",
        "[find_queers_alignment(x, dc_data) for x in sex_gender_min2] \n",
        "\n",
        "#a DC tem muitos personagens gays, com quantidades consideráveis em vilões (menos que heróis)\n",
        "#então temos um total de 30% de personagens bi vilões e 22,64 % para gays"
      ],
      "execution_count": null,
      "outputs": [
        {
          "output_type": "execute_result",
          "data": {
            "text/plain": [
              "[Good Characters       6\n",
              " Bad Characters        3\n",
              " Neutral Characters    1\n",
              " Name: ALIGN, dtype: int64,\n",
              " Good Characters       37\n",
              " Bad Characters        12\n",
              " Neutral Characters     4\n",
              " Name: ALIGN, dtype: int64]"
            ]
          },
          "metadata": {
            "tags": []
          },
          "execution_count": 68
        }
      ]
    },
    {
      "cell_type": "code",
      "metadata": {
        "id": "MZrZmVXO77yR",
        "colab_type": "code",
        "colab": {},
        "outputId": "69fb2fd7-fc37-4cad-c712-af3a1d9d5ba6"
      },
      "source": [
        "#agora estaremos correndo a análise com a função de descobrirs quais \n",
        "#queers estão vivos\n",
        "\n",
        "[find_queers_alive(x, dc_data) for x in sex_gender_min2]\n",
        "\n",
        "#a porcentagem de gays/bis mortos é relativamente baixa também\n",
        "#mais precisamente 11,11% de bis mortos e 9,43% de gays mortos"
      ],
      "execution_count": null,
      "outputs": [
        {
          "output_type": "execute_result",
          "data": {
            "text/plain": [
              "[Living Characters      9\n",
              " Deceased Characters    1\n",
              " Name: ALIVE, dtype: int64,\n",
              " Living Characters      48\n",
              " Deceased Characters     5\n",
              " Name: ALIVE, dtype: int64]"
            ]
          },
          "metadata": {
            "tags": []
          },
          "execution_count": 69
        }
      ]
    }
  ]
}